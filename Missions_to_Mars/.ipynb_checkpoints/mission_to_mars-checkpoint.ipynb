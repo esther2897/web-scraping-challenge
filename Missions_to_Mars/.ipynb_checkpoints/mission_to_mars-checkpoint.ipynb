{
 "cells": [
  {
   "cell_type": "code",
   "execution_count": 95,
   "id": "da9ae178",
   "metadata": {},
   "outputs": [
    {
     "name": "stdout",
     "output_type": "stream",
     "text": [
      "Requirement already satisfied: webdriver_manager in c:\\users\\esthe\\anaconda3\\lib\\site-packages (3.4.2)\n",
      "Requirement already satisfied: crayons in c:\\users\\esthe\\anaconda3\\lib\\site-packages (from webdriver_manager) (0.4.0)\n",
      "Requirement already satisfied: configparser in c:\\users\\esthe\\anaconda3\\lib\\site-packages (from webdriver_manager) (5.0.2)\n",
      "Requirement already satisfied: requests in c:\\users\\esthe\\anaconda3\\lib\\site-packages (from webdriver_manager) (2.25.1)\n",
      "Requirement already satisfied: colorama in c:\\users\\esthe\\anaconda3\\lib\\site-packages (from crayons->webdriver_manager) (0.4.4)\n",
      "Requirement already satisfied: urllib3<1.27,>=1.21.1 in c:\\users\\esthe\\anaconda3\\lib\\site-packages (from requests->webdriver_manager) (1.26.4)\n",
      "Requirement already satisfied: certifi>=2017.4.17 in c:\\users\\esthe\\anaconda3\\lib\\site-packages (from requests->webdriver_manager) (2020.12.5)\n",
      "Requirement already satisfied: idna<3,>=2.5 in c:\\users\\esthe\\anaconda3\\lib\\site-packages (from requests->webdriver_manager) (2.10)\n",
      "Requirement already satisfied: chardet<5,>=3.0.2 in c:\\users\\esthe\\anaconda3\\lib\\site-packages (from requests->webdriver_manager) (4.0.0)\n",
      "Requirement already satisfied: splinter in c:\\users\\esthe\\anaconda3\\lib\\site-packages (0.15.0)\n",
      "Requirement already satisfied: six in c:\\users\\esthe\\anaconda3\\lib\\site-packages (from splinter) (1.15.0)\n",
      "Requirement already satisfied: selenium>=3.141.0 in c:\\users\\esthe\\anaconda3\\lib\\site-packages (from splinter) (3.141.0)\n",
      "Requirement already satisfied: urllib3 in c:\\users\\esthe\\anaconda3\\lib\\site-packages (from selenium>=3.141.0->splinter) (1.26.4)\n",
      "Requirement already satisfied: lxml in c:\\users\\esthe\\anaconda3\\lib\\site-packages (4.6.3)\n",
      "Requirement already satisfied: bs4 in c:\\users\\esthe\\anaconda3\\lib\\site-packages (0.0.1)\n",
      "Requirement already satisfied: beautifulsoup4 in c:\\users\\esthe\\anaconda3\\lib\\site-packages (from bs4) (4.9.3)\n",
      "Requirement already satisfied: soupsieve>1.2 in c:\\users\\esthe\\anaconda3\\lib\\site-packages (from beautifulsoup4->bs4) (2.2.1)\n",
      "Requirement already satisfied: flask_mongoengine in c:\\users\\esthe\\anaconda3\\lib\\site-packages (1.0.0)\n",
      "Requirement already satisfied: Flask-WTF>=0.14.3 in c:\\users\\esthe\\anaconda3\\lib\\site-packages (from flask_mongoengine) (0.15.1)\n",
      "Requirement already satisfied: Flask>=1.1.2 in c:\\users\\esthe\\anaconda3\\lib\\site-packages (from flask_mongoengine) (1.1.2)\n",
      "Requirement already satisfied: mongoengine>=0.20 in c:\\users\\esthe\\anaconda3\\lib\\site-packages (from flask_mongoengine) (0.23.1)\n",
      "Requirement already satisfied: WTForms[email]>=2.3.1 in c:\\users\\esthe\\anaconda3\\lib\\site-packages (from flask_mongoengine) (2.3.3)\n",
      "Requirement already satisfied: Werkzeug>=0.15 in c:\\users\\esthe\\anaconda3\\lib\\site-packages (from Flask>=1.1.2->flask_mongoengine) (1.0.1)\n",
      "Requirement already satisfied: itsdangerous>=0.24 in c:\\users\\esthe\\anaconda3\\lib\\site-packages (from Flask>=1.1.2->flask_mongoengine) (1.1.0)\n",
      "Requirement already satisfied: Jinja2>=2.10.1 in c:\\users\\esthe\\anaconda3\\lib\\site-packages (from Flask>=1.1.2->flask_mongoengine) (2.11.3)\n",
      "Requirement already satisfied: click>=5.1 in c:\\users\\esthe\\anaconda3\\lib\\site-packages (from Flask>=1.1.2->flask_mongoengine) (7.1.2)\n",
      "Requirement already satisfied: MarkupSafe>=0.23 in c:\\users\\esthe\\anaconda3\\lib\\site-packages (from Jinja2>=2.10.1->Flask>=1.1.2->flask_mongoengine) (1.1.1)\n",
      "Requirement already satisfied: pymongo<4.0,>=3.4 in c:\\users\\esthe\\anaconda3\\lib\\site-packages (from mongoengine>=0.20->flask_mongoengine) (3.12.0)\n",
      "Requirement already satisfied: email-validator in c:\\users\\esthe\\anaconda3\\lib\\site-packages (from WTForms[email]>=2.3.1->flask_mongoengine) (1.1.3)\n",
      "Requirement already satisfied: dnspython>=1.15.0 in c:\\users\\esthe\\anaconda3\\lib\\site-packages (from email-validator->WTForms[email]>=2.3.1->flask_mongoengine) (2.1.0)\n",
      "Requirement already satisfied: idna>=2.0.0 in c:\\users\\esthe\\anaconda3\\lib\\site-packages (from email-validator->WTForms[email]>=2.3.1->flask_mongoengine) (2.10)\n",
      "Requirement already satisfied: pymongo in c:\\users\\esthe\\anaconda3\\lib\\site-packages (3.12.0)\n"
     ]
    }
   ],
   "source": [
    "!pip install webdriver_manager\n",
    "!pip install splinter\n",
    "!pip install lxml\n",
    "!pip install bs4\n",
    "!pip install flask_mongoengine\n",
    "!pip install Flask-PyMongo"
   ]
  },
  {
   "cell_type": "code",
   "execution_count": 47,
   "id": "78f81649",
   "metadata": {},
   "outputs": [],
   "source": [
    "from splinter import Browser\n",
    "from bs4 import BeautifulSoup\n",
    "from webdriver_manager.chrome import ChromeDriverManager\n",
    "import pandas as pd"
   ]
  },
  {
   "cell_type": "code",
   "execution_count": 87,
   "id": "f24dfe80",
   "metadata": {},
   "outputs": [],
   "source": [
    "def scrape():\n",
    "    # browser = init_browser()\n",
    "    executable_path = {'executable_path': ChromeDriverManager().install()}\n",
    "    browser = Browser('chrome', **executable_path, headless=False)\n",
    "\n",
    "    new_news = {}\n",
    "\n",
    "    url = \"https://redplanetscience.com/\"\n",
    "    browser.visit(url)\n",
    "\n",
    "    html = browser.html\n",
    "    soup = BeautifulSoup(html, \"html.parser\")\n",
    "\n",
    "    new_news[\"news_title\"] = soup.find(\"div\", class_=\"content_title\").get_text()\n",
    "    new_news[\"news_p\"] = soup.find(\"div\", class_=\"article_teaser_body\").get_text()\n",
    "    new_news[\"featured_image_url\"]  = (soup\n",
    "    .find(\"div\", {\"class\": \"col-md-4\"})\n",
    "    .find(\"div\", {\"class\": \"list_image\"})\n",
    "    .find(\"img\")\n",
    "    .attrs['src']\n",
    "    )\n",
    "    # Quit the browser\n",
    "    browser.quit()\n",
    "    \n",
    "    executable_path_two = {'executable_path': ChromeDriverManager().install()}\n",
    "    browser_two = Browser('chrome', **executable_path, headless=False)\n",
    "    \n",
    "    url_two = \"https://galaxyfacts-mars.com/\"\n",
    "    browser_two.visit(url_two)\n",
    "\n",
    "    html_two = browser_two.html\n",
    "    \n",
    "    table = pd.read_html(html_two)[-1].to_html()\n",
    "    browser.quit()\n",
    "\n",
    "    hemisphere_image_urls = [\n",
    "    {\"title\": \"Valles Marineris Hemisphere\", \"img_url\": \"https://marshemispheres.com/images/b3c7c6c9138f57b…b9c43e3a48_valles_marineris_enhanced.tif_full.jpg\"},\n",
    "    {\"title\": \"Cerberus Hemisphere\", \"img_url\": \"https://marshemispheres.com/images/f5e372a36edfa389625da6d0cc25d905_cerberus_enhanced.tif_full.jpg\"},\n",
    "    {\"title\": \"Schiaparelli Hemisphere\", \"img_url\": \"https://marshemispheres.com/images/3778f7b43bbbc89…3cfabb3613ba93_schiaparelli_enhanced.tif_full.jpg\"},\n",
    "    {\"title\": \"Syrtis Major Hemisphere\", \"img_url\": \"https://marshemispheres.com/images/b3c7c6c9138f57b…b9c43e3a48_valles_marineris_enhanced.tif_full.jpg\"},\n",
    "    ]\n",
    "    \n",
    "    return new_news, table, hemisphere_image_urls"
   ]
  },
  {
   "cell_type": "code",
   "execution_count": 92,
   "id": "5a7dc682",
   "metadata": {},
   "outputs": [
    {
     "name": "stderr",
     "output_type": "stream",
     "text": [
      "\n",
      "\n",
      "====== WebDriver manager ======\n",
      "Current google-chrome version is 92.0.4515\n",
      "Get LATEST driver version for 92.0.4515\n",
      "Driver [C:\\Users\\esthe\\.wdm\\drivers\\chromedriver\\win32\\92.0.4515.107\\chromedriver.exe] found in cache\n",
      "\n",
      "\n",
      "====== WebDriver manager ======\n",
      "Current google-chrome version is 92.0.4515\n",
      "Get LATEST driver version for 92.0.4515\n",
      "Driver [C:\\Users\\esthe\\.wdm\\drivers\\chromedriver\\win32\\92.0.4515.107\\chromedriver.exe] found in cache\n"
     ]
    },
    {
     "name": "stdout",
     "output_type": "stream",
     "text": [
      "{'news_title': 'MOXIE Could Help Future Rockets Launch Off Mars', 'news_p': \"NASA's Perseverance rover carries a device to convert Martian air into oxygen that, if produced on a larger scale, could be used not just for breathing, but also for fuel.\", 'featured_image_url': 'https://mars.nasa.gov/system/news_items/list_view_images/8805_1-MOXIE-PIA24176-320.gif'}\n"
     ]
    }
   ],
   "source": [
    "scrap_one = scrape()\n",
    "print(scrap_one[0])"
   ]
  },
  {
   "cell_type": "code",
   "execution_count": 86,
   "id": "aa1248f1",
   "metadata": {},
   "outputs": [],
   "source": [
    "def scrape_table():\n",
    "    # browser = init_browser()\n",
    "    executable_path = {'executable_path': ChromeDriverManager().install()}\n",
    "    browser = Browser('chrome', **executable_path, headless=False)\n",
    "    table = {}\n",
    "    \n",
    "\n",
    "    url = \"https://galaxyfacts-mars.com/\"\n",
    "    browser.visit(url)\n",
    "\n",
    "    html = browser.html\n",
    "    soup = BeautifulSoup(html)\n",
    "    \n",
    "    table = pd.read_html(html)[-1].to_html()\n",
    "    browser.quit()\n",
    "\n",
    "    return table"
   ]
  },
  {
   "cell_type": "code",
   "execution_count": 82,
   "id": "2f903dba",
   "metadata": {},
   "outputs": [],
   "source": [
    "hemisphere_image_urls = [\n",
    "    {\"title\": \"Valles Marineris Hemisphere\", \"img_url\": \"https://marshemispheres.com/images/b3c7c6c9138f57b…b9c43e3a48_valles_marineris_enhanced.tif_full.jpg\"},\n",
    "    {\"title\": \"Cerberus Hemisphere\", \"img_url\": \"https://marshemispheres.com/images/f5e372a36edfa389625da6d0cc25d905_cerberus_enhanced.tif_full.jpg\"},\n",
    "    {\"title\": \"Schiaparelli Hemisphere\", \"img_url\": \"https://marshemispheres.com/images/3778f7b43bbbc89…3cfabb3613ba93_schiaparelli_enhanced.tif_full.jpg\"},\n",
    "    {\"title\": \"Syrtis Major Hemisphere\", \"img_url\": \"https://marshemispheres.com/images/b3c7c6c9138f57b…b9c43e3a48_valles_marineris_enhanced.tif_full.jpg\"},\n",
    "]\n"
   ]
  },
  {
   "cell_type": "code",
   "execution_count": null,
   "id": "3663e381",
   "metadata": {},
   "outputs": [],
   "source": []
  }
 ],
 "metadata": {
  "kernelspec": {
   "display_name": "Python 3",
   "language": "python",
   "name": "python3"
  },
  "language_info": {
   "codemirror_mode": {
    "name": "ipython",
    "version": 3
   },
   "file_extension": ".py",
   "mimetype": "text/x-python",
   "name": "python",
   "nbconvert_exporter": "python",
   "pygments_lexer": "ipython3",
   "version": "3.8.8"
  }
 },
 "nbformat": 4,
 "nbformat_minor": 5
}
